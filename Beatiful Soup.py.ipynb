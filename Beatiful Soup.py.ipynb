{
 "cells": [
  {
   "cell_type": "code",
   "execution_count": null,
   "metadata": {},
   "outputs": [],
   "source": [
    "#import library\n",
    "from bs4 import BeautifulSoup\n",
    "import requests"
   ]
  },
  {
   "cell_type": "code",
   "execution_count": null,
   "metadata": {},
   "outputs": [],
   "source": [
    "#url of website\n",
    "page = requests.get(\"https://www.balenciaga.com/kz/all/shoes\")\n",
    "soup = BeautifulSoup(page.text,'html.parser')"
   ]
  },
  {
   "cell_type": "code",
   "execution_count": null,
   "metadata": {},
   "outputs": [],
   "source": [
    "#url of website\n",
    "page = requests.get(\"https://www.balenciaga.com/kz/all/shoes\")\n",
    "soup = BeautifulSoup(page.text,'html.parser')"
   ]
  },
  {
   "cell_type": "code",
   "execution_count": null,
   "metadata": {
    "scrolled": true
   },
   "outputs": [],
   "source": [
    "#creating io txt\n",
    "import io\n",
    "filename = \"products.csv\"\n",
    "f = io.open(filename, \"w\",encoding='utf-8-sig')\n",
    "headers = \"Name , Composition , Details , Product_id\\n\"\n",
    "f.write(headers)"
   ]
  },
  {
   "cell_type": "code",
   "execution_count": null,
   "metadata": {},
   "outputs": [],
   "source": [
    "arr = []\n",
    "containers = soup.findAll(\"a\",{\"class\":\"item-link\"})\n",
    "for link in containers:\n",
    "    if 'href' in link.attrs:\n",
    "        arr.append(link.attrs['href'])\n",
    "arr = list(dict.fromkeys(arr))"
   ]
  },
  {
   "cell_type": "code",
   "execution_count": null,
   "metadata": {},
   "outputs": [],
   "source": [
    "for array in arr:\n",
    "    page_details = requests.get(array)\n",
    "    soup_d = BeautifulSoup(page_details.text,'html.parser')\n",
    "    \n",
    "    name = soup_d.find(\"h1\",{\"class\":\"modelName\"}).text\n",
    "    \n",
    "    compositions = soup_d.find(\"p\",{\"class\":\"Composition\"})\n",
    "    composition = compositions.find(\"span\",{\"class\":\"value\"}).text\n",
    "    \n",
    "    details = soup_d.find(\"ul\",{\"class\":\"item-description-list\"})\n",
    "    detail = details.findAll(\"li\")\n",
    "    x = \"\";\n",
    "    for d in detail:\n",
    "        x+=d.text.strip()+\",\"\n",
    "    \n",
    "    product_id = soup_d.find(\"span\",{\"class\":\"item-mfc-value\"}).text\n",
    "    f.write(name.strip()+\",\"+composition+\",\"+x+product_id+\"\\n\")"
   ]
  },
  {
   "cell_type": "code",
   "execution_count": null,
   "metadata": {},
   "outputs": [],
   "source": [
    "array = [\"https://www.balenciaga.com/Search/RenderProductsDepartmentAsync?ytosQuery=true&linkdepartment=&linkdepartmentId=&department=mnshs_micro&departmentId=&gender=&brand=&macro=&micro=&season=A%2CP%2CE&color=&size=&site=&section=&sortRule=&yurirulename=searchresultmultigender&microcolor=&agerange=adult&macroMarchio=&page=1&productsPerPage=24&modelnames=&look=&washtype=&fabric=&prints=&suggestion=false&suggestionValue=&material=&occasion=&weight=&gallery=&colortype=&style=&issale=&heeltype=&wedge=&salesline=&family=&environment=&structure=&authorlocalized=&themecollection=&waist=&stone=&filter=&collection=&price=&facetsvalue=&model=&virtualnavigation=&textSearchFilters=&textSearch=&minMaxPrice=&searchType=&fabricColor=&modelFabric=&itembinding=&totalPages=2&rsiUsed=false&totalItems=43&partialLoadedItems=24&itemsToLoadOnNextPage=19&dept=mnshs_micro&deptType=13&lastForBreakline=&siteCode=BALENCIAGA_KZ&dataType=html\",\n",
    "        \"https://www.balenciaga.com/Search/RenderProductsDepartmentAsync?ytosQuery=true&linkdepartment=&linkdepartmentId=&department=mnshs_micro&departmentId=&gender=&brand=&macro=&micro=&season=A%2CP%2CE&color=&size=&site=&section=&sortRule=&yurirulename=searchresultmultigender&microcolor=&agerange=adult&macroMarchio=&page=2&productsPerPage=24&modelnames=&look=&washtype=&fabric=&prints=&suggestion=false&suggestionValue=&material=&occasion=&weight=&gallery=&colortype=&style=&issale=&heeltype=&wedge=&salesline=&family=&environment=&structure=&authorlocalized=&themecollection=&waist=&stone=&filter=&collection=&price=&facetsvalue=&model=&virtualnavigation=&textSearchFilters=&textSearch=&minMaxPrice=&searchType=&fabricColor=&modelFabric=&itembinding=&totalPages=2&rsiUsed=false&totalItems=43&partialLoadedItems=24&itemsToLoadOnNextPage=19&dept=mnshs_micro&deptType=13&lastForBreakline=&siteCode=BALENCIAGA_KZ&dataType=html\",\n",
    "        \"https://www.balenciaga.com/Search/RenderProductsDepartmentAsync?ytosQuery=true&linkdepartment=&linkdepartmentId=&department=wmnshs_micro&departmentId=&gender=&brand=&macro=&micro=&season=A%2CP%2CE&color=&size=&site=&section=&sortRule=&yurirulename=searchresultmultigender&microcolor=&agerange=adult&macroMarchio=&page=2&productsPerPage=24&modelnames=&look=&washtype=&fabric=&prints=&suggestion=false&suggestionValue=&material=&occasion=&weight=&gallery=&colortype=&style=&issale=&heeltype=&wedge=&salesline=&family=&environment=&structure=&authorlocalized=&themecollection=&waist=&stone=&filter=&collection=&price=&facetsvalue=&model=&virtualnavigation=&textSearchFilters=&textSearch=&minMaxPrice=&searchType=&fabricColor=&modelFabric=&itembinding=&totalPages=2&rsiUsed=false&totalItems=43&partialLoadedItems=24&itemsToLoadOnNextPage=19&dept=wmnshs_micro&deptType=13&lastForBreakline=&siteCode=BALENCIAGA_KZ&dataType=html\",\n",
    "        \"https://www.balenciaga.com/Search/RenderProductsDepartmentAsync?ytosQuery=true&linkdepartment=&linkdepartmentId=&department=mnshs_micro&departmentId=&gender=&brand=&macro=&micro=&season=A%2CP%2CE&color=&size=&site=&section=&sortRule=&yurirulename=searchresultmultigender&microcolor=&agerange=adult&macroMarchio=&page=3&productsPerPage=24&modelnames=&look=&washtype=&fabric=&prints=&suggestion=false&suggestionValue=&material=&occasion=&weight=&gallery=&colortype=&style=&issale=&heeltype=&wedge=&salesline=&family=&environment=&structure=&authorlocalized=&themecollection=&waist=&stone=&filter=&collection=&price=&facetsvalue=&model=&virtualnavigation=&textSearchFilters=&textSearch=&minMaxPrice=&searchType=&fabricColor=&modelFabric=&itembinding=&totalPages=2&rsiUsed=false&totalItems=43&partialLoadedItems=24&itemsToLoadOnNextPage=19&dept=mnshs_micro&deptType=13&lastForBreakline=&siteCode=BALENCIAGA_KZ&dataType=html\",\n",
    "        \"https://www.balenciaga.com/Search/RenderProductsDepartmentAsync?ytosQuery=true&linkdepartment=&linkdepartmentId=&department=wmnshs_micro&departmentId=&gender=&brand=&macro=&micro=&season=A%2CP%2CE&color=&size=&site=&section=&sortRule=&yurirulename=searchresultmultigender&microcolor=&agerange=adult&macroMarchio=&page=3&productsPerPage=24&modelnames=&look=&washtype=&fabric=&prints=&suggestion=false&suggestionValue=&material=&occasion=&weight=&gallery=&colortype=&style=&issale=&heeltype=&wedge=&salesline=&family=&environment=&structure=&authorlocalized=&themecollection=&waist=&stone=&filter=&collection=&price=&facetsvalue=&model=&virtualnavigation=&textSearchFilters=&textSearch=&minMaxPrice=&searchType=&fabricColor=&modelFabric=&itembinding=&totalPages=2&rsiUsed=false&totalItems=43&partialLoadedItems=24&itemsToLoadOnNextPage=19&dept=wmnshs_micro&deptType=13&lastForBreakline=&siteCode=BALENCIAGA_KZ&dataType=html\",\n",
    "        \"https://www.balenciaga.com/Search/RenderProductsDepartmentAsync?ytosQuery=true&linkdepartment=&linkdepartmentId=&department=mnshs_micro&departmentId=&gender=&brand=&macro=&micro=&season=A%2CP%2CE&color=&size=&site=&section=&sortRule=&yurirulename=searchresultmultigender&microcolor=&agerange=adult&macroMarchio=&page=4&productsPerPage=24&modelnames=&look=&washtype=&fabric=&prints=&suggestion=false&suggestionValue=&material=&occasion=&weight=&gallery=&colortype=&style=&issale=&heeltype=&wedge=&salesline=&family=&environment=&structure=&authorlocalized=&themecollection=&waist=&stone=&filter=&collection=&price=&facetsvalue=&model=&virtualnavigation=&textSearchFilters=&textSearch=&minMaxPrice=&searchType=&fabricColor=&modelFabric=&itembinding=&totalPages=2&rsiUsed=false&totalItems=43&partialLoadedItems=24&itemsToLoadOnNextPage=19&dept=mnshs_micro&deptType=13&lastForBreakline=&siteCode=BALENCIAGA_KZ&dataType=html\",\n",
    "        \"https://www.balenciaga.com/Search/RenderProductsDepartmentAsync?ytosQuery=true&linkdepartment=&linkdepartmentId=&department=wmnshs_micro&departmentId=&gender=&brand=&macro=&micro=&season=A%2CP%2CE&color=&size=&site=&section=&sortRule=&yurirulename=searchresultmultigender&microcolor=&agerange=adult&macroMarchio=&page=4&productsPerPage=24&modelnames=&look=&washtype=&fabric=&prints=&suggestion=false&suggestionValue=&material=&occasion=&weight=&gallery=&colortype=&style=&issale=&heeltype=&wedge=&salesline=&family=&environment=&structure=&authorlocalized=&themecollection=&waist=&stone=&filter=&collection=&price=&facetsvalue=&model=&virtualnavigation=&textSearchFilters=&textSearch=&minMaxPrice=&searchType=&fabricColor=&modelFabric=&itembinding=&totalPages=2&rsiUsed=false&totalItems=43&partialLoadedItems=24&itemsToLoadOnNextPage=19&dept=wmnshs_micro&deptType=13&lastForBreakline=&siteCode=BALENCIAGA_KZ&dataType=html\"]"
   ]
  },
  {
   "cell_type": "code",
   "execution_count": null,
   "metadata": {},
   "outputs": [],
   "source": [
    "for b in array:\n",
    "    page = requests.get(b)\n",
    "    soup = BeautifulSoup(page.text,'html.parser')\n",
    "    arr = []\n",
    "    containers = soup.findAll(\"a\",{\"class\":\"item-link\"})\n",
    "    for link in containers:\n",
    "        if 'href' in link.attrs:\n",
    "            arr.append(link.attrs['href'])\n",
    "    arr = list(dict.fromkeys(arr))\n",
    "\n",
    "    for array in arr:\n",
    "        page_details = requests.get(array)\n",
    "        soup_d = BeautifulSoup(page_details.text,'html.parser')\n",
    "\n",
    "        name = soup_d.find(\"h1\",{\"class\":\"modelName\"}).text\n",
    "\n",
    "        compositions = soup_d.find(\"p\",{\"class\":\"Composition\"})\n",
    "        composition = compositions.find(\"span\",{\"class\":\"value\"}).text\n",
    "\n",
    "        details = soup_d.find(\"ul\",{\"class\":\"item-description-list\"})\n",
    "        detail = details.findAll(\"li\")\n",
    "        x = \"\";\n",
    "        for d in detail:\n",
    "            x+=d.text.strip()+\",\"\n",
    "\n",
    "        product_id = soup_d.find(\"span\",{\"class\":\"item-mfc-value\"}).text\n",
    "        f.write(name.strip()+\" , \"+composition+\" , \"+x+product_id+\"\\n\")"
   ]
  },
  {
   "cell_type": "code",
   "execution_count": 46,
   "metadata": {},
   "outputs": [],
   "source": [
    "page = requests.get(\"https://www.balenciaga.com/Search/RenderProductsDepartmentAsync?ytosQuery=true&linkdepartment=&linkdepartmentId=&department=mnshs_micro&departmentId=&gender=&brand=&macro=&micro=&season=A%2CP%2CE&color=&size=&site=&section=&sortRule=&yurirulename=searchresultmultigender&microcolor=&agerange=adult&macroMarchio=&page=2&productsPerPage=24&modelnames=&look=&washtype=&fabric=&prints=&suggestion=false&suggestionValue=&material=&occasion=&weight=&gallery=&colortype=&style=&issale=&heeltype=&wedge=&salesline=&family=&environment=&structure=&authorlocalized=&themecollection=&waist=&stone=&filter=&collection=&price=&facetsvalue=&model=&virtualnavigation=&textSearchFilters=&textSearch=&minMaxPrice=&searchType=&fabricColor=&modelFabric=&itembinding=&totalPages=2&rsiUsed=false&totalItems=43&partialLoadedItems=24&itemsToLoadOnNextPage=19&dept=mnshs_micro&deptType=13&lastForBreakline=&siteCode=BALENCIAGA_KZ&dataType=html\")\n",
    "soup = BeautifulSoup(page.text,'html.parser')\n",
    "arr = []\n",
    "containers = soup.findAll(\"a\",{\"class\":\"item-link\"})\n",
    "for link in containers:\n",
    "    if 'href' in link.attrs:\n",
    "        arr.append(link.attrs['href'])\n",
    "arr = list(dict.fromkeys(arr))\n",
    "\n",
    "for array in arr:\n",
    "    page_details = requests.get(array)\n",
    "    soup_d = BeautifulSoup(page_details.text,'html.parser')\n",
    "    \n",
    "    name = soup_d.find(\"h1\",{\"class\":\"modelName\"}).text\n",
    "    \n",
    "    compositions = soup_d.find(\"p\",{\"class\":\"Composition\"})\n",
    "    composition = compositions.find(\"span\",{\"class\":\"value\"}).text\n",
    "    \n",
    "    details = soup_d.find(\"ul\",{\"class\":\"item-description-list\"})\n",
    "    detail = details.findAll(\"li\")\n",
    "    x = \"\";\n",
    "    for d in detail:\n",
    "        x+=d.text.strip()+\",\"\n",
    "    \n",
    "    product_id = soup_d.find(\"span\",{\"class\":\"item-mfc-value\"}).text\n",
    "    f.write(name.strip()+\" , \"+composition+\" , \"+x+product_id+\"\\n\")"
   ]
  },
  {
   "cell_type": "code",
   "execution_count": 47,
   "metadata": {},
   "outputs": [],
   "source": [
    "page = requests.get(\"https://www.balenciaga.com/Search/RenderProductsDepartmentAsync?ytosQuery=true&linkdepartment=&linkdepartmentId=&department=wmnshs_micro&departmentId=&gender=&brand=&macro=&micro=&season=A%2CP%2CE&color=&size=&site=&section=&sortRule=&yurirulename=searchresultmultigender&microcolor=&agerange=adult&macroMarchio=&page=2&productsPerPage=24&modelnames=&look=&washtype=&fabric=&prints=&suggestion=false&suggestionValue=&material=&occasion=&weight=&gallery=&colortype=&style=&issale=&heeltype=&wedge=&salesline=&family=&environment=&structure=&authorlocalized=&themecollection=&waist=&stone=&filter=&collection=&price=&facetsvalue=&model=&virtualnavigation=&textSearchFilters=&textSearch=&minMaxPrice=&searchType=&fabricColor=&modelFabric=&itembinding=&totalPages=2&rsiUsed=false&totalItems=43&partialLoadedItems=24&itemsToLoadOnNextPage=19&dept=wmnshs_micro&deptType=13&lastForBreakline=&siteCode=BALENCIAGA_KZ&dataType=html\")\n",
    "soup = BeautifulSoup(page.text,'html.parser')\n",
    "arr = []\n",
    "containers = soup.findAll(\"a\",{\"class\":\"item-link\"})\n",
    "for link in containers:\n",
    "    if 'href' in link.attrs:\n",
    "        arr.append(link.attrs['href'])\n",
    "arr = list(dict.fromkeys(arr))\n",
    "\n",
    "for array in arr:\n",
    "    page_details = requests.get(array)\n",
    "    soup_d = BeautifulSoup(page_details.text,'html.parser')\n",
    "    \n",
    "    name = soup_d.find(\"h1\",{\"class\":\"modelName\"}).text\n",
    "    \n",
    "    compositions = soup_d.find(\"p\",{\"class\":\"Composition\"})\n",
    "    composition = compositions.find(\"span\",{\"class\":\"value\"}).text\n",
    "    \n",
    "    details = soup_d.find(\"ul\",{\"class\":\"item-description-list\"})\n",
    "    detail = details.findAll(\"li\")\n",
    "    x = \"\";\n",
    "    for d in detail:\n",
    "        x+=d.text.strip()+\",\"\n",
    "    \n",
    "    product_id = soup_d.find(\"span\",{\"class\":\"item-mfc-value\"}).text\n",
    "    f.write(name.strip()+\" , \"+composition+\" , \"+x+product_id+\"\\n\")"
   ]
  },
  {
   "cell_type": "code",
   "execution_count": 48,
   "metadata": {},
   "outputs": [],
   "source": [
    "page = requests.get(\"https://www.balenciaga.com/Search/RenderProductsDepartmentAsync?ytosQuery=true&linkdepartment=&linkdepartmentId=&department=mnshs_micro&departmentId=&gender=&brand=&macro=&micro=&season=A%2CP%2CE&color=&size=&site=&section=&sortRule=&yurirulename=searchresultmultigender&microcolor=&agerange=adult&macroMarchio=&page=3&productsPerPage=24&modelnames=&look=&washtype=&fabric=&prints=&suggestion=false&suggestionValue=&material=&occasion=&weight=&gallery=&colortype=&style=&issale=&heeltype=&wedge=&salesline=&family=&environment=&structure=&authorlocalized=&themecollection=&waist=&stone=&filter=&collection=&price=&facetsvalue=&model=&virtualnavigation=&textSearchFilters=&textSearch=&minMaxPrice=&searchType=&fabricColor=&modelFabric=&itembinding=&totalPages=2&rsiUsed=false&totalItems=43&partialLoadedItems=24&itemsToLoadOnNextPage=19&dept=mnshs_micro&deptType=13&lastForBreakline=&siteCode=BALENCIAGA_KZ&dataType=html\")\n",
    "soup = BeautifulSoup(page.text,'html.parser')\n",
    "arr = []\n",
    "containers = soup.findAll(\"a\",{\"class\":\"item-link\"})\n",
    "for link in containers:\n",
    "    if 'href' in link.attrs:\n",
    "        arr.append(link.attrs['href'])\n",
    "arr = list(dict.fromkeys(arr))\n",
    "\n",
    "for array in arr:\n",
    "    page_details = requests.get(array)\n",
    "    soup_d = BeautifulSoup(page_details.text,'html.parser')\n",
    "    \n",
    "    name = soup_d.find(\"h1\",{\"class\":\"modelName\"}).text\n",
    "    \n",
    "    compositions = soup_d.find(\"p\",{\"class\":\"Composition\"})\n",
    "    composition = compositions.find(\"span\",{\"class\":\"value\"}).text\n",
    "    \n",
    "    details = soup_d.find(\"ul\",{\"class\":\"item-description-list\"})\n",
    "    detail = details.findAll(\"li\")\n",
    "    x = \"\";\n",
    "    for d in detail:\n",
    "        x+=d.text.strip()+\",\"\n",
    "    \n",
    "    product_id = soup_d.find(\"span\",{\"class\":\"item-mfc-value\"}).text\n",
    "    f.write(name.strip()+\" , \"+composition+\" , \"+x+product_id+\"\\n\")"
   ]
  },
  {
   "cell_type": "code",
   "execution_count": 49,
   "metadata": {},
   "outputs": [],
   "source": [
    "page = requests.get(\"https://www.balenciaga.com/Search/RenderProductsDepartmentAsync?ytosQuery=true&linkdepartment=&linkdepartmentId=&department=wmnshs_micro&departmentId=&gender=&brand=&macro=&micro=&season=A%2CP%2CE&color=&size=&site=&section=&sortRule=&yurirulename=searchresultmultigender&microcolor=&agerange=adult&macroMarchio=&page=3&productsPerPage=24&modelnames=&look=&washtype=&fabric=&prints=&suggestion=false&suggestionValue=&material=&occasion=&weight=&gallery=&colortype=&style=&issale=&heeltype=&wedge=&salesline=&family=&environment=&structure=&authorlocalized=&themecollection=&waist=&stone=&filter=&collection=&price=&facetsvalue=&model=&virtualnavigation=&textSearchFilters=&textSearch=&minMaxPrice=&searchType=&fabricColor=&modelFabric=&itembinding=&totalPages=2&rsiUsed=false&totalItems=43&partialLoadedItems=24&itemsToLoadOnNextPage=19&dept=wmnshs_micro&deptType=13&lastForBreakline=&siteCode=BALENCIAGA_KZ&dataType=html\")\n",
    "soup = BeautifulSoup(page.text,'html.parser')\n",
    "arr = []\n",
    "containers = soup.findAll(\"a\",{\"class\":\"item-link\"})\n",
    "for link in containers:\n",
    "    if 'href' in link.attrs:\n",
    "        arr.append(link.attrs['href'])\n",
    "arr = list(dict.fromkeys(arr))\n",
    "\n",
    "for array in arr:\n",
    "    page_details = requests.get(array)\n",
    "    soup_d = BeautifulSoup(page_details.text,'html.parser')\n",
    "    \n",
    "    name = soup_d.find(\"h1\",{\"class\":\"modelName\"}).text\n",
    "    \n",
    "    compositions = soup_d.find(\"p\",{\"class\":\"Composition\"})\n",
    "    composition = compositions.find(\"span\",{\"class\":\"value\"}).text\n",
    "    \n",
    "    details = soup_d.find(\"ul\",{\"class\":\"item-description-list\"})\n",
    "    detail = details.findAll(\"li\")\n",
    "    x = \"\";\n",
    "    for d in detail:\n",
    "        x+=d.text.strip()+\",\"\n",
    "    \n",
    "    product_id = soup_d.find(\"span\",{\"class\":\"item-mfc-value\"}).text\n",
    "    f.write(name.strip()+\" , \"+composition+\" , \"+x+product_id+\"\\n\")"
   ]
  },
  {
   "cell_type": "code",
   "execution_count": 50,
   "metadata": {},
   "outputs": [],
   "source": [
    "page = requests.get(\"https://www.balenciaga.com/Search/RenderProductsDepartmentAsync?ytosQuery=true&linkdepartment=&linkdepartmentId=&department=mnshs_micro&departmentId=&gender=&brand=&macro=&micro=&season=A%2CP%2CE&color=&size=&site=&section=&sortRule=&yurirulename=searchresultmultigender&microcolor=&agerange=adult&macroMarchio=&page=4&productsPerPage=24&modelnames=&look=&washtype=&fabric=&prints=&suggestion=false&suggestionValue=&material=&occasion=&weight=&gallery=&colortype=&style=&issale=&heeltype=&wedge=&salesline=&family=&environment=&structure=&authorlocalized=&themecollection=&waist=&stone=&filter=&collection=&price=&facetsvalue=&model=&virtualnavigation=&textSearchFilters=&textSearch=&minMaxPrice=&searchType=&fabricColor=&modelFabric=&itembinding=&totalPages=2&rsiUsed=false&totalItems=43&partialLoadedItems=24&itemsToLoadOnNextPage=19&dept=mnshs_micro&deptType=13&lastForBreakline=&siteCode=BALENCIAGA_KZ&dataType=html\")\n",
    "soup = BeautifulSoup(page.text,'html.parser')\n",
    "arr = []\n",
    "containers = soup.findAll(\"a\",{\"class\":\"item-link\"})\n",
    "for link in containers:\n",
    "    if 'href' in link.attrs:\n",
    "        arr.append(link.attrs['href'])\n",
    "arr = list(dict.fromkeys(arr))\n",
    "\n",
    "for array in arr:\n",
    "    page_details = requests.get(array)\n",
    "    soup_d = BeautifulSoup(page_details.text,'html.parser')\n",
    "    \n",
    "    name = soup_d.find(\"h1\",{\"class\":\"modelName\"}).text\n",
    "    \n",
    "    compositions = soup_d.find(\"p\",{\"class\":\"Composition\"})\n",
    "    composition = compositions.find(\"span\",{\"class\":\"value\"}).text\n",
    "    \n",
    "    details = soup_d.find(\"ul\",{\"class\":\"item-description-list\"})\n",
    "    detail = details.findAll(\"li\")\n",
    "    x = \"\";\n",
    "    for d in detail:\n",
    "        x+=d.text.strip()+\",\"\n",
    "    \n",
    "    product_id = soup_d.find(\"span\",{\"class\":\"item-mfc-value\"}).text\n",
    "    f.write(name.strip()+\" , \"+composition+\" , \"+x+product_id+\"\\n\")"
   ]
  },
  {
   "cell_type": "code",
   "execution_count": 51,
   "metadata": {},
   "outputs": [],
   "source": [
    "page = requests.get(\"https://www.balenciaga.com/Search/RenderProductsDepartmentAsync?ytosQuery=true&linkdepartment=&linkdepartmentId=&department=wmnshs_micro&departmentId=&gender=&brand=&macro=&micro=&season=A%2CP%2CE&color=&size=&site=&section=&sortRule=&yurirulename=searchresultmultigender&microcolor=&agerange=adult&macroMarchio=&page=4&productsPerPage=24&modelnames=&look=&washtype=&fabric=&prints=&suggestion=false&suggestionValue=&material=&occasion=&weight=&gallery=&colortype=&style=&issale=&heeltype=&wedge=&salesline=&family=&environment=&structure=&authorlocalized=&themecollection=&waist=&stone=&filter=&collection=&price=&facetsvalue=&model=&virtualnavigation=&textSearchFilters=&textSearch=&minMaxPrice=&searchType=&fabricColor=&modelFabric=&itembinding=&totalPages=2&rsiUsed=false&totalItems=43&partialLoadedItems=24&itemsToLoadOnNextPage=19&dept=wmnshs_micro&deptType=13&lastForBreakline=&siteCode=BALENCIAGA_KZ&dataType=html\")\n",
    "soup = BeautifulSoup(page.text,'html.parser')\n",
    "arr = []\n",
    "containers = soup.findAll(\"a\",{\"class\":\"item-link\"})\n",
    "for link in containers:\n",
    "    if 'href' in link.attrs:\n",
    "        arr.append(link.attrs['href'])\n",
    "arr = list(dict.fromkeys(arr))\n",
    "\n",
    "for array in arr:\n",
    "    page_details = requests.get(array)\n",
    "    soup_d = BeautifulSoup(page_details.text,'html.parser')\n",
    "    \n",
    "    name = soup_d.find(\"h1\",{\"class\":\"modelName\"}).text\n",
    "    \n",
    "    compositions = soup_d.find(\"p\",{\"class\":\"Composition\"})\n",
    "    composition = compositions.find(\"span\",{\"class\":\"value\"}).text\n",
    "    \n",
    "    details = soup_d.find(\"ul\",{\"class\":\"item-description-list\"})\n",
    "    detail = details.findAll(\"li\")\n",
    "    x = \"\";\n",
    "    for d in detail:\n",
    "        x+=d.text.strip()+\",\"\n",
    "    \n",
    "    product_id = soup_d.find(\"span\",{\"class\":\"item-mfc-value\"}).text\n",
    "    f.write(name.strip()+\" , \"+composition+\" , \"+x+product_id+\"\\n\")"
   ]
  },
  {
   "cell_type": "code",
   "execution_count": 52,
   "metadata": {},
   "outputs": [],
   "source": [
    "#close io\n",
    "f.close()"
   ]
  },
  {
   "cell_type": "code",
   "execution_count": null,
   "metadata": {},
   "outputs": [],
   "source": []
  }
 ],
 "metadata": {
  "kernelspec": {
   "display_name": "Python 3",
   "language": "python",
   "name": "python3"
  },
  "language_info": {
   "codemirror_mode": {
    "name": "ipython",
    "version": 3
   },
   "file_extension": ".py",
   "mimetype": "text/x-python",
   "name": "python",
   "nbconvert_exporter": "python",
   "pygments_lexer": "ipython3",
   "version": "3.7.6"
  }
 },
 "nbformat": 4,
 "nbformat_minor": 4
}
